{
  "nbformat": 4,
  "nbformat_minor": 0,
  "metadata": {
    "colab": {
      "provenance": [],
      "authorship_tag": "ABX9TyMdsUmZS/l79H7hOs85nw7I",
      "include_colab_link": true
    },
    "kernelspec": {
      "name": "python3",
      "display_name": "Python 3"
    },
    "language_info": {
      "name": "python"
    }
  },
  "cells": [
    {
      "cell_type": "markdown",
      "metadata": {
        "id": "view-in-github",
        "colab_type": "text"
      },
      "source": [
        "<a href=\"https://colab.research.google.com/github/busraguven/book-recommender/blob/main/book_recommender.ipynb\" target=\"_parent\"><img src=\"https://colab.research.google.com/assets/colab-badge.svg\" alt=\"Open In Colab\"/></a>"
      ]
    },
    {
      "cell_type": "code",
      "source": [
        "%cd /content\n",
        "!git clone https://github.com/busraguven/book-recommender.git\n",
        "%cd /content/book-recommender\n",
        "!ls -la\n"
      ],
      "metadata": {
        "id": "V9ddWJ_3K-Ks"
      },
      "execution_count": null,
      "outputs": []
    },
    {
      "cell_type": "code",
      "source": [
        "import nbformat\n",
        "\n",
        "path = \"book_recommender.ipynb\"  # or the correct filename\n",
        "nb = nbformat.read(path, as_version=4)\n",
        "\n",
        "# Remove widget state metadata\n",
        "if \"widgets\" in nb.metadata:\n",
        "    del nb.metadata[\"widgets\"]\n",
        "\n",
        "# Clean any leftover empty metadata in cells\n",
        "for cell in nb.cells:\n",
        "    if \"metadata\" in cell and \"widgets\" in cell[\"metadata\"]:\n",
        "        del cell[\"metadata\"][\"widgets\"]\n",
        "\n",
        "nbformat.write(nb, path)\n",
        "print(\"✅ Widget metadata removed. You can now push again to GitHub.\")\n"
      ],
      "metadata": {
        "id": "UmtjG8gdKE3B"
      },
      "execution_count": null,
      "outputs": []
    },
    {
      "cell_type": "code",
      "execution_count": null,
      "metadata": {
        "id": "7mpzBEM5HAEm"
      },
      "outputs": [],
      "source": [
        "# 📚 Book Recommender Project — Starter Notebook\n",
        "# Author: [Ulviye Busra Guven]\n",
        "# Goal: Build a multimodal book recommender (text + metadata)\n",
        "\n",
        "!pip install pandas numpy scikit-learn sentence-transformers faiss-cpu -q\n",
        "import pandas as pd\n",
        "import numpy as np\n"
      ]
    },
    {
      "cell_type": "code",
      "source": [
        "data = [\n",
        "    {\"title\": \"The Great Gatsby\", \"author\": \"F. Scott Fitzgerald\", \"genre\": \"Classic\",\n",
        "     \"description\": \"A tragic story of wealth, love and the American dream.\"},\n",
        "    {\"title\": \"Pride and Prejudice\", \"author\": \"Jane Austen\", \"genre\": \"Romance\",\n",
        "     \"description\": \"A witty exploration of manners, marriage and social standing.\"},\n",
        "    {\"title\": \"Dune\", \"author\": \"Frank Herbert\", \"genre\": \"Sci-Fi\",\n",
        "     \"description\": \"An epic saga of politics, prophecy, and survival on the desert planet Arrakis.\"},\n",
        "    {\"title\": \"1984\", \"author\": \"George Orwell\", \"genre\": \"Dystopian\",\n",
        "     \"description\": \"A chilling vision of a totalitarian future and the loss of freedom.\"},\n",
        "    {\"title\": \"The Hobbit\", \"author\": \"J.R.R. Tolkien\", \"genre\": \"Fantasy\",\n",
        "     \"description\": \"A hobbit embarks on a perilous adventure with dwarves and dragons.\"}\n",
        "]\n",
        "\n",
        "df = pd.DataFrame(data)\n",
        "df\n"
      ],
      "metadata": {
        "id": "r0rk3v9eHQ0f"
      },
      "execution_count": null,
      "outputs": []
    },
    {
      "cell_type": "code",
      "source": [
        "from sentence_transformers import SentenceTransformer\n",
        "import numpy as np\n",
        "\n",
        "model = SentenceTransformer(\"all-MiniLM-L6-v2\")\n",
        "\n",
        "df[\"embeddings\"] = df[\"description\"].apply(lambda x: model.encode(x))\n",
        "df.head()\n"
      ],
      "metadata": {
        "id": "980AOu3HHWYL"
      },
      "execution_count": null,
      "outputs": []
    },
    {
      "cell_type": "code",
      "source": [
        "import faiss\n",
        "\n",
        "# Create the index\n",
        "dim = len(df[\"embeddings\"][0])\n",
        "index = faiss.IndexFlatIP(dim)  # cosine similarity via dot product\n",
        "emb_matrix = np.vstack(df[\"embeddings\"].values)\n",
        "faiss.normalize_L2(emb_matrix)\n",
        "index.add(emb_matrix)\n",
        "\n",
        "# Function to get top-N similar books\n",
        "def recommend(title, top_n=3):\n",
        "    idx = df.index[df[\"title\"] == title][0]\n",
        "    query = df.loc[idx, \"embeddings\"].reshape(1, -1)\n",
        "    faiss.normalize_L2(query)\n",
        "    scores, indices = index.search(query, top_n + 1)\n",
        "    results = df.iloc[indices[0][1:]][[\"title\", \"author\", \"genre\"]]\n",
        "    results[\"score\"] = scores[0][1:]\n",
        "    return results\n",
        "\n",
        "recommend(\"The Hobbit\")\n"
      ],
      "metadata": {
        "id": "NRXmhJ9UHu3Y"
      },
      "execution_count": null,
      "outputs": []
    },
    {
      "cell_type": "code",
      "execution_count": null,
      "metadata": {
        "id": "b9746c1f"
      },
      "outputs": [],
      "source": [
        "# ---- Add metadata features ----\n",
        "\n",
        "# Encode genres numerically\n",
        "from sklearn.preprocessing import LabelEncoder, MinMaxScaler\n",
        "\n",
        "genre_encoder = LabelEncoder()\n",
        "df[\"genre_encoded\"] = genre_encoder.fit_transform(df[\"genre\"])\n",
        "\n",
        "# Let's pretend we also have \"popularity\" or \"rating\" (for demonstration)\n",
        "# You can later replace this with real data\n",
        "df[\"popularity\"] = [1200, 1800, 1500, 2200, 2600]  # random example values\n",
        "\n",
        "# Normalize popularity (so it scales 0–1)\n",
        "scaler = MinMaxScaler()\n",
        "df[\"popularity_scaled\"] = scaler.fit_transform(df[[\"popularity\"]])\n",
        "\n",
        "df[[\"title\", \"genre\", \"genre_encoded\", \"popularity_scaled\"]]\n"
      ]
    },
    {
      "cell_type": "code",
      "execution_count": null,
      "metadata": {
        "id": "4875cbcd"
      },
      "outputs": [],
      "source": [
        "import numpy as np\n",
        "\n",
        "def recommend_hybrid(title, top_n=3):\n",
        "    \"\"\"\n",
        "    Recommend top_n books similar to the given title using\n",
        "    hybrid text + metadata similarity.\n",
        "    \"\"\"\n",
        "    # ---- Configurable weights (can tweak later) ----\n",
        "    w_text = 0.8\n",
        "    w_meta = 0.2\n",
        "\n",
        "    # ---- Find the query index ----\n",
        "    idx = df.index[df[\"title\"] == title][0]\n",
        "\n",
        "    # ---- Get FAISS similarities ----\n",
        "    query = df.loc[idx, \"embeddings\"].reshape(1, -1)\n",
        "    faiss.normalize_L2(query)\n",
        "    scores, indices = index.search(query, len(df))\n",
        "\n",
        "    # ---- Realign FAISS scores to DataFrame rows ----\n",
        "    aligned_text = np.zeros(len(df), dtype=float)\n",
        "    aligned_text[indices[0]] = scores[0]\n",
        "\n",
        "    # ---- Metadata signals ----\n",
        "    genre_match = (df[\"genre\"] == df.loc[idx, \"genre\"]).astype(float).to_numpy()\n",
        "    pop_scaled  = df[\"popularity_scaled\"].to_numpy()\n",
        "    meta_signal = 0.7 * genre_match + 0.3 * pop_scaled\n",
        "\n",
        "    # ---- Combine into hybrid score ----\n",
        "    hybrid = w_text * aligned_text + w_meta * meta_signal\n",
        "\n",
        "    # ---- Exclude the query book ----\n",
        "    hybrid[idx] = -np.inf\n",
        "\n",
        "    # ---- Retrieve top_n results ----\n",
        "    top_idx = np.argpartition(-hybrid, range(top_n))[:top_n]\n",
        "    top_idx = top_idx[np.argsort(-hybrid[top_idx])]\n",
        "\n",
        "    recs = df.iloc[top_idx][[\"title\", \"author\", \"genre\"]].copy()\n",
        "    recs[\"hybrid_score\"] = hybrid[top_idx]\n",
        "\n",
        "    print(f\"\\n📖 Because you liked **{title}**, you might enjoy:\")\n",
        "    return recs.reset_index(drop=True)\n",
        "\n",
        "recommend_hybrid(\"The Hobbit\", top_n=3)\n"
      ]
    },
    {
      "cell_type": "code",
      "execution_count": null,
      "metadata": {
        "id": "a36a1fa3"
      },
      "outputs": [],
      "source": [
        "recommend_hybrid(\"Pride and Prejudice\", top_n=4)"
      ]
    },
    {
      "cell_type": "code",
      "execution_count": null,
      "metadata": {
        "id": "182ebda0"
      },
      "outputs": [],
      "source": [
        "interactions = [\n",
        "    (\"u1\",\"The Hobbit\"),\n",
        "    (\"u1\",\"The Great Gatsby\"),\n",
        "    (\"u2\",\"1984\"),\n",
        "    (\"u2\",\"Dune\"),\n",
        "    (\"u3\",\"Pride and Prejudice\"),\n",
        "    (\"u4\",\"Dune\"),\n",
        "    (\"u5\",\"1984\"),\n",
        "]\n",
        "import pandas as pd\n",
        "ui = pd.DataFrame(interactions, columns=[\"user\",\"title\"])\n"
      ]
    },
    {
      "cell_type": "code",
      "execution_count": null,
      "metadata": {
        "id": "5b4be61b"
      },
      "outputs": [],
      "source": [
        "# Build per-user relevant sets (proxy: same-genre as liked titles)\n",
        "user_rel = {}\n",
        "for u, liked in ui.values:\n",
        "    liked_genre = df.loc[df[\"title\"]==liked, \"genre\"].item()\n",
        "    rel = set(df.loc[df[\"genre\"]==liked_genre, \"title\"]) - {liked}\n",
        "    user_rel.setdefault(u, set()).update(rel)\n"
      ]
    },
    {
      "cell_type": "code",
      "source": [
        "print(user_rel)"
      ],
      "metadata": {
        "id": "auXMdC7K8hxi"
      },
      "execution_count": null,
      "outputs": []
    },
    {
      "cell_type": "code",
      "execution_count": null,
      "metadata": {
        "id": "102972f0"
      },
      "outputs": [],
      "source": [
        "# Popularity from your earlier column (or count interactions per title)\n",
        "pop = df[[\"title\",\"popularity_scaled\"]].sort_values(\"popularity_scaled\", ascending=False)\n",
        "\n",
        "def baseline_popular(user, k=10):\n",
        "    # Recommend top-K popular titles excluding what user already liked\n",
        "    liked = set(ui.loc[ui[\"user\"]==user, \"title\"])\n",
        "    candidates = [t for t in pop[\"title\"].tolist() if t not in liked]\n",
        "    return candidates[:k]\n"
      ]
    },
    {
      "cell_type": "code",
      "execution_count": null,
      "metadata": {
        "id": "5bed0550"
      },
      "outputs": [],
      "source": [
        "def model_recs(user, k=10):\n",
        "    # Use the most recent (or first) liked title as query\n",
        "    liked = ui.loc[ui[\"user\"]==user, \"title\"].tolist()\n",
        "    if not liked: return []\n",
        "    seed = liked[-1]\n",
        "    return recommend_hybrid(seed, top_n=k)[\"title\"].tolist()"
      ]
    },
    {
      "cell_type": "code",
      "execution_count": null,
      "metadata": {
        "id": "7abeee33"
      },
      "outputs": [],
      "source": [
        "import math\n",
        "\n",
        "def dcg_at_k(recommended, relevant, k=10):\n",
        "    dcg = 0.0\n",
        "    for i, item in enumerate(recommended[:k], start=1):\n",
        "        rel = 1 if item in relevant else 0\n",
        "        dcg += (2**rel - 1) / math.log2(i+1)\n",
        "    return dcg\n",
        "\n",
        "def ndcg_at_k(recommended, relevant, k=10):\n",
        "    dcg = dcg_at_k(recommended, relevant, k)\n",
        "    ideal = dcg_at_k(sorted(relevant, key=lambda x: 1, reverse=True), relevant, k)\n",
        "    return dcg / ideal if ideal > 0 else 0.0\n"
      ]
    },
    {
      "cell_type": "code",
      "execution_count": null,
      "metadata": {
        "id": "e18ec781"
      },
      "outputs": [],
      "source": [
        "import io\n",
        "from contextlib import redirect_stdout, redirect_stderr\n",
        "\n",
        "def eval_system(get_recs, k=10):\n",
        "    \"\"\"\n",
        "    Evaluate a recommender function using NDCG@K.\n",
        "    Silences verbose prints from recommend_hybrid().\n",
        "    \"\"\"\n",
        "    scores = []\n",
        "    k_safe = max(1, min(int(k), max(1, len(df) - 1)))\n",
        "\n",
        "    for u in ui[\"user\"].unique():\n",
        "        # capture prints to keep output clean\n",
        "        buf = io.StringIO()\n",
        "        with redirect_stdout(buf), redirect_stderr(buf):\n",
        "            # try to call the recommender with verbose=False if supported\n",
        "            try:\n",
        "                recs = get_recs(u, k_safe, verbose=False)\n",
        "            except TypeError:\n",
        "                # fallback for functions that don't take verbose\n",
        "                recs = get_recs(u, k_safe)\n",
        "\n",
        "        # normalize different output types\n",
        "        if recs is None:\n",
        "            recs = []\n",
        "        elif hasattr(recs, \"columns\") and \"title\" in recs.columns:\n",
        "            recs = recs[\"title\"].tolist()\n",
        "        elif hasattr(recs, \"to_list\"):\n",
        "            recs = recs.to_list()\n",
        "        elif isinstance(recs, (list, tuple, set)):\n",
        "            recs = list(recs)\n",
        "        else:\n",
        "            recs = [str(recs)]\n",
        "\n",
        "        rel = user_rel.get(u, set())\n",
        "        scores.append(ndcg_at_k(recs, rel, k_safe))\n",
        "\n",
        "    return sum(scores) / len(scores) if scores else 0.0\n",
        "\n",
        "\n",
        "ndcg_pop = eval_system(baseline_popular, k=min(10, len(df)))\n",
        "ndcg_model = eval_system(model_recs, k=min(10, len(df)))\n",
        "lift = (ndcg_model - ndcg_pop) / (ndcg_pop + 1e-9)\n",
        "\n",
        "print(f\"Baseline NDCG@{min(10, len(df))}: {ndcg_pop:.3f}\")\n",
        "print(f\"Model    NDCG@{min(10, len(df))}: {ndcg_model:.3f}\")\n",
        "print(f\"Relative lift: {100*lift:.1f}%\")"
      ]
    }
  ]
}