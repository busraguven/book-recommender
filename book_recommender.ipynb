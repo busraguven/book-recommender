{
  "nbformat": 4,
  "nbformat_minor": 0,
  "metadata": {
    "colab": {
      "provenance": [],
      "authorship_tag": "ABX9TyMi4fM3BnIa4zmALodR1z8N",
      "include_colab_link": true
    },
    "kernelspec": {
      "name": "python3",
      "display_name": "Python 3"
    },
    "language_info": {
      "name": "python"
    }
  },
  "cells": [
    {
      "cell_type": "markdown",
      "metadata": {
        "id": "view-in-github",
        "colab_type": "text"
      },
      "source": [
        "<a href=\"https://colab.research.google.com/github/busraguven/book-recommender/blob/main/book_recommender.ipynb\" target=\"_parent\"><img src=\"https://colab.research.google.com/assets/colab-badge.svg\" alt=\"Open In Colab\"/></a>"
      ]
    },
    {
      "cell_type": "code",
      "execution_count": null,
      "metadata": {
        "id": "7mpzBEM5HAEm"
      },
      "outputs": [],
      "source": [
        "# 📚 Book Recommender Project — Starter Notebook\n",
        "# Author: [Ulviye Busra Guven]\n",
        "# Goal: Build a multimodal book recommender (text + metadata)\n",
        "\n",
        "!pip install pandas numpy scikit-learn sentence-transformers faiss-cpu -q\n",
        "import pandas as pd\n",
        "import numpy as np\n"
      ]
    },
    {
      "cell_type": "code",
      "source": [
        "data = [\n",
        "    {\"title\": \"The Great Gatsby\", \"author\": \"F. Scott Fitzgerald\", \"genre\": \"Classic\",\n",
        "     \"description\": \"A tragic story of wealth, love and the American dream.\"},\n",
        "    {\"title\": \"Pride and Prejudice\", \"author\": \"Jane Austen\", \"genre\": \"Romance\",\n",
        "     \"description\": \"A witty exploration of manners, marriage and social standing.\"},\n",
        "    {\"title\": \"Dune\", \"author\": \"Frank Herbert\", \"genre\": \"Sci-Fi\",\n",
        "     \"description\": \"An epic saga of politics, prophecy, and survival on the desert planet Arrakis.\"},\n",
        "    {\"title\": \"1984\", \"author\": \"George Orwell\", \"genre\": \"Dystopian\",\n",
        "     \"description\": \"A chilling vision of a totalitarian future and the loss of freedom.\"},\n",
        "    {\"title\": \"The Hobbit\", \"author\": \"J.R.R. Tolkien\", \"genre\": \"Fantasy\",\n",
        "     \"description\": \"A hobbit embarks on a perilous adventure with dwarves and dragons.\"}\n",
        "]\n",
        "\n",
        "df = pd.DataFrame(data)\n",
        "df\n"
      ],
      "metadata": {
        "id": "r0rk3v9eHQ0f"
      },
      "execution_count": null,
      "outputs": []
    },
    {
      "cell_type": "code",
      "source": [
        "from sentence_transformers import SentenceTransformer\n",
        "import numpy as np\n",
        "\n",
        "model = SentenceTransformer(\"all-MiniLM-L6-v2\")\n",
        "\n",
        "df[\"embeddings\"] = df[\"description\"].apply(lambda x: model.encode(x))\n",
        "df.head()\n"
      ],
      "metadata": {
        "id": "980AOu3HHWYL"
      },
      "execution_count": null,
      "outputs": []
    },
    {
      "cell_type": "code",
      "source": [
        "import faiss\n",
        "\n",
        "# Create the index\n",
        "dim = len(df[\"embeddings\"][0])\n",
        "index = faiss.IndexFlatIP(dim)  # cosine similarity via dot product\n",
        "emb_matrix = np.vstack(df[\"embeddings\"].values)\n",
        "faiss.normalize_L2(emb_matrix)\n",
        "index.add(emb_matrix)\n",
        "\n",
        "# Function to get top-N similar books\n",
        "def recommend(title, top_n=3):\n",
        "    idx = df.index[df[\"title\"] == title][0]\n",
        "    query = df.loc[idx, \"embeddings\"].reshape(1, -1)\n",
        "    faiss.normalize_L2(query)\n",
        "    scores, indices = index.search(query, top_n + 1)\n",
        "    results = df.iloc[indices[0][1:]][[\"title\", \"author\", \"genre\"]]\n",
        "    results[\"score\"] = scores[0][1:]\n",
        "    return results\n",
        "\n",
        "recommend(\"The Hobbit\")\n"
      ],
      "metadata": {
        "id": "NRXmhJ9UHu3Y"
      },
      "execution_count": null,
      "outputs": []
    },
    {
      "cell_type": "code",
      "source": [],
      "metadata": {
        "id": "2DkWjXR4H-tB"
      },
      "execution_count": null,
      "outputs": []
    }
  ]
}